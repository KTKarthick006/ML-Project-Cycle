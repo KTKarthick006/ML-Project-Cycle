{
 "cells": [
  {
   "cell_type": "code",
   "execution_count": 10,
   "metadata": {},
   "outputs": [
    {
     "name": "stdout",
     "output_type": "stream",
     "text": [
      "Original Data:\n",
      "     Make Colour  Odometer (KM)  Doors       Price\n",
      "0  Toyota  White         150043      4   $4,000.00\n",
      "1   Honda    Red          87899      4   $5,000.00\n",
      "2  Toyota   Blue          32549      3   $7,000.00\n",
      "3     BMW  Black          11179      5  $22,000.00\n",
      "4  Nissan  White         213095      4   $3,500.00\n",
      "One-Hot Encoded Data:\n",
      "     Make Colour  Odometer (KM)  Doors       Price  Make_Toyota  Make_Honda  \\\n",
      "0  Toyota  White         150043      4   $4,000.00            1           0   \n",
      "1   Honda    Red          87899      4   $5,000.00            0           1   \n",
      "2  Toyota   Blue          32549      3   $7,000.00            1           0   \n",
      "3     BMW  Black          11179      5  $22,000.00            0           0   \n",
      "4  Nissan  White         213095      4   $3,500.00            0           0   \n",
      "\n",
      "   Make_BMW  Make_Nissan  Colour_White  Colour_Red  Colour_Blue  Colour_Black  \\\n",
      "0         0            0             1           0            0             0   \n",
      "1         0            0             0           1            0             0   \n",
      "2         0            0             0           0            1             0   \n",
      "3         1            0             0           0            0             1   \n",
      "4         0            1             1           0            0             0   \n",
      "\n",
      "   Colour_Green  \n",
      "0             0  \n",
      "1             0  \n",
      "2             0  \n",
      "3             0  \n",
      "4             0  \n"
     ]
    }
   ],
   "source": [
    "import pandas as pd\n",
    "\n",
    "\n",
    "data = pd.read_csv('car-sales.csv')\n",
    "\n",
    "\n",
    "print(\"Original Data:\")\n",
    "print(data.head())\n",
    "\n",
    "\n",
    "categorical_columns = ['Make','Colour']\n",
    "\n",
    "\n",
    "for column in categorical_columns:\n",
    "    unique_values = data[column].unique()\n",
    "    for unique_value in unique_values:\n",
    "        new_column_name = f\"{column}_{unique_value}\"\n",
    "        data[new_column_name] = (data[column] == unique_value).astype(int)\n",
    "\n",
    "\n",
    "print(\"One-Hot Encoded Data:\")\n",
    "print(data.head())"
   ]
  }
 ],
 "metadata": {
  "kernelspec": {
   "display_name": "Python 3",
   "language": "python",
   "name": "python3"
  },
  "language_info": {
   "codemirror_mode": {
    "name": "ipython",
    "version": 3
   },
   "file_extension": ".py",
   "mimetype": "text/x-python",
   "name": "python",
   "nbconvert_exporter": "python",
   "pygments_lexer": "ipython3",
   "version": "3.11.5"
  }
 },
 "nbformat": 4,
 "nbformat_minor": 2
}
